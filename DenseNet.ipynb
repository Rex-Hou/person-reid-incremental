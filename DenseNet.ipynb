{
 "cells": [
  {
   "cell_type": "code",
   "execution_count": 1,
   "metadata": {},
   "outputs": [],
   "source": [
    "import torch\n",
    "\n",
    "import torch.nn as nn\n",
    "import torch.optim as optim\n",
    "\n",
    "import torch.nn.functional as F\n",
    "from torch.autograd import Variable\n",
    "\n",
    "import torchvision.datasets as dset\n",
    "import torchvision.transforms as transforms\n",
    "from torch.utils.data import DataLoader\n",
    "\n",
    "import torchvision.models as models\n",
    "\n",
    "import sys\n",
    "import math"
   ]
  },
  {
   "cell_type": "code",
   "execution_count": 2,
   "metadata": {},
   "outputs": [],
   "source": [
    "class BottleNeck(nn.Module):\n",
    "    def __init__(self,num_channels,g_rate):\n",
    "        super(BottleNeck,self).__init__()\n",
    "        interChannels = 4*g_rate\n",
    "        self.batch_norm1 = nn.BatchNorm2d(num_channels)\n",
    "        self.conv1 = nn.Conv2d(num_channels, interChannels,kernel_size=1,bias=False)\n",
    "        \n",
    "        self.batch_norm2 = nn.BatchNorm2d(interChannels)\n",
    "        self.conv2 = nn.Conv2d(interChannels,g_rate,kernel_size=3,padding=1,bias=False)\n",
    "        \n",
    "    def forward(self,x):\n",
    "        outp = self.conv1(F.relu(self.batch_norm1(x)))\n",
    "        outp = self.conv2(F.relu(self.batch_norm2(outp)))\n",
    "        outp = torch.cat((x,outp),1)\n",
    "        return outp"
   ]
  },
  {
   "cell_type": "code",
   "execution_count": 4,
   "metadata": {},
   "outputs": [],
   "source": [
    "class SingleLayer(nn.Module):\n",
    "    def __init__(self, num_channels,g_rate):\n",
    "        super(SingleLayer,self).__init__()\n",
    "        self.batch_norm1 = nn.BatchNorm2d(num_channels)\n",
    "        self.conv1 = nn.Conv2d(num_channels,g_rate,kernel_size=3, padding=1, bias=False)\n",
    "        \n",
    "    def forward(self,x):\n",
    "        outp = self.conv1(F.relu(self.batch_norm1(x)))\n",
    "        outp = torch.cat((x,outp),1)\n",
    "        return outp"
   ]
  },
  {
   "cell_type": "code",
   "execution_count": 5,
   "metadata": {},
   "outputs": [],
   "source": [
    "class Transition(nn.Module):\n",
    "    def __init__(self,num_channels,num_out_channels):\n",
    "        super(Transition,self).__init__()\n",
    "        self.batch_norm1 = nn.BatchNorm2d(num_channels)\n",
    "        self.conv1 = nn.Conv2d(num_channels,num_out_channels,kernel_size=1,bias=False)\n",
    "    \n",
    "    def forward(self,x):\n",
    "        outp = self.conv1(F.relu(self.batch_norm1(x)))\n",
    "        outp = F.avg_pool2d(out,2)\n",
    "        return out"
   ]
  },
  {
   "cell_type": "code",
   "execution_count": 7,
   "metadata": {},
   "outputs": [],
   "source": [
    "class DenseNetBase(nn.Module):\n",
    "    def __init__(self,g_rate,depth,reduction,num_classes,bottleneck):\n",
    "        super(DenseNetBase,self).__init__()\n",
    "        \n",
    "        num_dense_blocks = (depth-4) // 3\n",
    "        if bottleneck:\n",
    "            num_dense_blocks //=2\n",
    "        \n",
    "        num_channels = 2*g_rate\n",
    "        self.conv1 = nn.Conv2d(3,num_channels,kernel_size=3,padding=1)\n",
    "        self.dense1 = self._make_dense(num_channels,g_rate,num_dense_blocks,bottleneck)\n",
    "        num_channels += num_dense_blocks*g_rate\n",
    "        num_out_channels = int(math.floor(num_channels*reduction))\n",
    "        self.trans1 = Transition(num_channels,num_out_channels)\n",
    "    \n",
    "        num_channels = num_out_channels\n",
    "        self.dense2 = self._make_dense(num_channels,g_rate,num_dense_blocks,bottleneck)\n",
    "        num_channels += num_dense_blocks*g_rate\n",
    "        num_out_channels = int(math.floor(num_channels*reduction))\n",
    "        self.trans2 = Transition(num_channels,num_out_channels)\n",
    "        \n",
    "        num_channels = num_out_channels\n",
    "        self.dense3 = self._make_dense(num_channels,g_rate,num_dense_blocks,bottleneck)\n",
    "        num_channels += num_dense_blocks*g_rate\n",
    "        \n",
    "        self.batch_norm1 = nn.BatchNorm2d(num_channels)\n",
    "        self.fc = nn.Linear(num_channels,num_classes)\n",
    "        \n",
    "        for m in self.modules():\n",
    "            if isinstance(m,nn.Conv2d):\n",
    "                n = m.kernel_size[0]*m_kernel_size[1]*m.out_channels\n",
    "                m.weight.data.normal_(0,math.sqrt(2./n))\n",
    "            elif isinstance(m,nn.BatchNorm2d):\n",
    "                m.weight.data.fill_(1)\n",
    "                m.bias.data.zero_()\n",
    "            elif isinstance(m,nn.Linear):\n",
    "                m.bias.data.zero_()\n",
    "    \n",
    "    def _make_dense(self, num_channels,g_rate,num_dense_blocks,bottleneck):\n",
    "        layers = []\n",
    "        for i in range(int(num_dense_blocks)):\n",
    "            if bottleneck:\n",
    "                layers.append(BottleNeck(num_channels,g_rate))\n",
    "            else:\n",
    "                layers.append(SingleLayer(num_channels,g_rate))\n",
    "            num_channels += g_rate\n",
    "        return nn.Sequential(*layers)\n",
    "    \n",
    "    def forward(self,x):\n",
    "        outp = self.conv1(x)\n",
    "        outp = self.trans1(self.dense1(outp))\n",
    "        outp = self.trans2(self.dense2(outp))\n",
    "        outp = self.dense3(out)\n",
    "        outp = torch.squeeze(F.avg_pool2d(F.relu(self.bn1(out)),8))\n",
    "        return self.fc(outp)"
   ]
  },
  {
   "cell_type": "code",
   "execution_count": 8,
   "metadata": {},
   "outputs": [],
   "source": [
    "class DenseNet121(nn.Module):\n",
    "    def __init__(self,num_classes, pretrained):\n",
    "        super(DenseNet121,self).__init__()\n",
    "        net = models.densenet.densenet121(pretrained=pretrained)\n",
    "        self.features = nn.features\n",
    "        self.classifier = nn.Linear(1024, num_classes)\n",
    "    \n",
    "    def forward(self, X):\n",
    "        features = self.features(x)\n",
    "        outp = F.relu(features, inplace=True)\n",
    "        otp = F.avg_pool2d(out, kernel_size=7).view(features.size(0),-1)\n",
    "        return self.classifier(outp)"
   ]
  },
  {
   "cell_type": "code",
   "execution_count": 9,
   "metadata": {},
   "outputs": [],
   "source": [
    "class DenseNet100(models.densenet.DenseNet):\n",
    "    def __init__(self, num_classes):\n",
    "        super(DenseNet100, self).__init__(g_rate=12, block_config=(16,16,16), num_init_features=24,bn_size=3,drop_rate=0.5, num_classes=num_classes)\n",
    "        \n",
    "    def forward(self,x):\n",
    "        outp = torch.squeeze(F.avg_pool2d(F.relu(self.features(x)), 8))\n",
    "        return self.classifier(outp)"
   ]
  },
  {
   "cell_type": "code",
   "execution_count": null,
   "metadata": {},
   "outputs": [],
   "source": []
  }
 ],
 "metadata": {
  "kernelspec": {
   "display_name": "Python (pytorch)",
   "language": "python",
   "name": "pytorch"
  },
  "language_info": {
   "codemirror_mode": {
    "name": "ipython",
    "version": 3
   },
   "file_extension": ".py",
   "mimetype": "text/x-python",
   "name": "python",
   "nbconvert_exporter": "python",
   "pygments_lexer": "ipython3",
   "version": "3.6.3"
  }
 },
 "nbformat": 4,
 "nbformat_minor": 2
}
